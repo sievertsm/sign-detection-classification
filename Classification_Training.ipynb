{
 "cells": [
  {
   "cell_type": "markdown",
   "metadata": {},
   "source": [
    "# MUTCD Sign Classification\n",
    "\n",
    "This notebook performs transfer learning using Pytorch's [torchvision models](https://pytorch.org/vision/stable/models.html) to classify traffic signs according to their MUTCD category. The MUTCD categories have three broad categores [guide](https://mutcd.fhwa.dot.gov/SHSe/Guide.pdf), [regulatory](https://mutcd.fhwa.dot.gov/SHSe/Regulatory.pdf), and [warning](https://mutcd.fhwa.dot.gov/SHSe/Warning.pdf). Contained in these three broad categories, there are over **600** different categories of signs. In this notebook we attempt to perform classification of signs into those categories.\n",
    "\n",
    "### Imports"
   ]
  },
  {
   "cell_type": "code",
   "execution_count": 1,
   "metadata": {},
   "outputs": [],
   "source": [
    "%load_ext autoreload\n",
    "%autoreload 2\n",
    "\n",
    "import os\n",
    "from glob import glob\n",
    "import json\n",
    "\n",
    "from PIL import Image\n",
    "\n",
    "import numpy as np\n",
    "import pandas as pd\n",
    "import matplotlib.pyplot as plt\n",
    "from matplotlib.pyplot import imread\n",
    "import seaborn as sns"
   ]
  },
  {
   "cell_type": "code",
   "execution_count": 2,
   "metadata": {},
   "outputs": [],
   "source": [
    "import torch\n",
    "import torch.nn as nn\n",
    "from torchvision import models\n",
    "from torch.utils.data import Dataset, DataLoader\n",
    "from torchvision import transforms, utils\n",
    "import torch.optim as optim\n",
    "from torch.optim import lr_scheduler\n",
    "import torch.functional as F"
   ]
  },
  {
   "cell_type": "code",
   "execution_count": 3,
   "metadata": {},
   "outputs": [],
   "source": [
    "from signutils.data import create_image_dataframe\n",
    "from signutils.data import SyntheticSignData, MakeSquare, RotateImage, ResizeImage, ToTensor, NormalizeImage, UnNormalizeImage\n",
    "from signutils.train import train_model, format_training_records\n",
    "from signutils.models import load_pretrained_model"
   ]
  },
  {
   "cell_type": "code",
   "execution_count": 4,
   "metadata": {},
   "outputs": [
    {
     "name": "stdout",
     "output_type": "stream",
     "text": [
      "Using Device cuda\n"
     ]
    }
   ],
   "source": [
    "device = torch.device(\"cuda\" if torch.cuda.is_available() else \"cpu\")\n",
    "print(f\"Using Device {device}\")"
   ]
  },
  {
   "cell_type": "markdown",
   "metadata": {},
   "source": [
    "## Read Image Information Dataframe"
   ]
  },
  {
   "cell_type": "code",
   "execution_count": 5,
   "metadata": {},
   "outputs": [],
   "source": [
    "with open('label_encoder.json') as fl:\n",
    "    label_encoder = json.loads(json.load(fl))\n",
    "label_decoder = {label_encoder[key]: key for key in label_encoder.keys()}"
   ]
  },
  {
   "cell_type": "code",
   "execution_count": 6,
   "metadata": {},
   "outputs": [
    {
     "data": {
      "text/html": [
       "<div>\n",
       "<style scoped>\n",
       "    .dataframe tbody tr th:only-of-type {\n",
       "        vertical-align: middle;\n",
       "    }\n",
       "\n",
       "    .dataframe tbody tr th {\n",
       "        vertical-align: top;\n",
       "    }\n",
       "\n",
       "    .dataframe thead th {\n",
       "        text-align: right;\n",
       "    }\n",
       "</style>\n",
       "<table border=\"1\" class=\"dataframe\">\n",
       "  <thead>\n",
       "    <tr style=\"text-align: right;\">\n",
       "      <th></th>\n",
       "      <th>path</th>\n",
       "      <th>labelname</th>\n",
       "      <th>filename</th>\n",
       "      <th>label</th>\n",
       "    </tr>\n",
       "  </thead>\n",
       "  <tbody>\n",
       "    <tr>\n",
       "      <th>0</th>\n",
       "      <td>../Synthetic/basic_classification/w4-1l/453_33...</td>\n",
       "      <td>w4-1l</td>\n",
       "      <td>453_33_W_w4-1l.jpg</td>\n",
       "      <td>544</td>\n",
       "    </tr>\n",
       "    <tr>\n",
       "      <th>1</th>\n",
       "      <td>../Synthetic/basic_classification/w4-1l/453_19...</td>\n",
       "      <td>w4-1l</td>\n",
       "      <td>453_195_W_w4-1l.jpg</td>\n",
       "      <td>544</td>\n",
       "    </tr>\n",
       "    <tr>\n",
       "      <th>2</th>\n",
       "      <td>../Synthetic/basic_classification/w4-1l/453_62...</td>\n",
       "      <td>w4-1l</td>\n",
       "      <td>453_62_W_w4-1l.jpg</td>\n",
       "      <td>544</td>\n",
       "    </tr>\n",
       "    <tr>\n",
       "      <th>3</th>\n",
       "      <td>../Synthetic/basic_classification/w4-1l/453_11...</td>\n",
       "      <td>w4-1l</td>\n",
       "      <td>453_118_W_w4-1l.jpg</td>\n",
       "      <td>544</td>\n",
       "    </tr>\n",
       "    <tr>\n",
       "      <th>4</th>\n",
       "      <td>../Synthetic/basic_classification/w4-1l/453_14...</td>\n",
       "      <td>w4-1l</td>\n",
       "      <td>453_143_W_w4-1l.jpg</td>\n",
       "      <td>544</td>\n",
       "    </tr>\n",
       "  </tbody>\n",
       "</table>\n",
       "</div>"
      ],
      "text/plain": [
       "                                                path labelname  \\\n",
       "0  ../Synthetic/basic_classification/w4-1l/453_33...     w4-1l   \n",
       "1  ../Synthetic/basic_classification/w4-1l/453_19...     w4-1l   \n",
       "2  ../Synthetic/basic_classification/w4-1l/453_62...     w4-1l   \n",
       "3  ../Synthetic/basic_classification/w4-1l/453_11...     w4-1l   \n",
       "4  ../Synthetic/basic_classification/w4-1l/453_14...     w4-1l   \n",
       "\n",
       "              filename  label  \n",
       "0   453_33_W_w4-1l.jpg    544  \n",
       "1  453_195_W_w4-1l.jpg    544  \n",
       "2   453_62_W_w4-1l.jpg    544  \n",
       "3  453_118_W_w4-1l.jpg    544  \n",
       "4  453_143_W_w4-1l.jpg    544  "
      ]
     },
     "execution_count": 6,
     "metadata": {},
     "output_type": "execute_result"
    }
   ],
   "source": [
    "df = pd.read_csv('classification_train.csv')\n",
    "df_test = pd.read_csv('classification_test.csv')\n",
    "\n",
    "df.head()"
   ]
  },
  {
   "cell_type": "markdown",
   "metadata": {},
   "source": [
    "## Format data into train and validation datasets\n",
    "### Perform the train validation split"
   ]
  },
  {
   "cell_type": "code",
   "execution_count": 7,
   "metadata": {},
   "outputs": [
    {
     "name": "stdout",
     "output_type": "stream",
     "text": [
      "Data Split\n",
      "Number of training images:   270519\n",
      "Number of validation images: 115938\n"
     ]
    }
   ],
   "source": [
    "# set the amount of the data to be included in the training dataset\n",
    "split = 7/10\n",
    "total_samples = len(df)\n",
    "split_idx = int(np.floor(total_samples * split))\n",
    "\n",
    "index = np.arange(total_samples)\n",
    "np.random.seed(123)\n",
    "np.random.shuffle(index)\n",
    "\n",
    "train_idx, val_idx = index[:split_idx], index[split_idx:]\n",
    "\n",
    "print(\"Data Split\")\n",
    "print(f\"Number of training images:   {len(train_idx)}\")\n",
    "print(f\"Number of validation images: {len(val_idx)}\")"
   ]
  },
  {
   "cell_type": "markdown",
   "metadata": {},
   "source": [
    "### Create Datasets"
   ]
  },
  {
   "cell_type": "code",
   "execution_count": 8,
   "metadata": {},
   "outputs": [],
   "source": [
    "# standar values for normalization using pytorch pre-trained models\n",
    "norm_mean, norm_std = [0.485, 0.456, 0.406], [0.229, 0.224, 0.225]\n",
    "\n",
    "# create training dataset\n",
    "dataset_train = SyntheticSignData(df.iloc[train_idx, :], transform=transforms.Compose([\n",
    "    MakeSquare(),\n",
    "    ResizeImage((64, 64)),\n",
    "    RotateImage(p=0.5, degrees=20),\n",
    "    ToTensor(),\n",
    "    NormalizeImage(norm_mean, norm_std)\n",
    "]))\n",
    "\n",
    "# create validation dataset\n",
    "dataset_val = SyntheticSignData(df.iloc[val_idx, :], transform=transforms.Compose([\n",
    "    MakeSquare(),\n",
    "    ResizeImage((64, 64)),\n",
    "    ToTensor(),\n",
    "    NormalizeImage(norm_mean, norm_std)\n",
    "]))\n",
    "\n",
    "# create test dataset\n",
    "dataset_test = SyntheticSignData(df_test, transform=transforms.Compose([\n",
    "    MakeSquare(),\n",
    "    ResizeImage((64, 64)),\n",
    "    ToTensor(),\n",
    "    NormalizeImage(norm_mean, norm_std)\n",
    "]))\n",
    "\n",
    "# create dictionary of dataset length (for use in training)\n",
    "dataset_sizes = {'train': len(dataset_train), 'val': len(dataset_val)}\n",
    "unnormalize_image = UnNormalizeImage(mean=norm_mean, std=norm_std)"
   ]
  },
  {
   "cell_type": "code",
   "execution_count": 9,
   "metadata": {},
   "outputs": [],
   "source": [
    "# create transform to transform images from outside the datasets\n",
    "transform_in=transforms.Compose([\n",
    "    MakeSquare(),\n",
    "    ResizeImage((64, 64)),\n",
    "    ToTensor(),\n",
    "    NormalizeImage(norm_mean, norm_std)\n",
    "])"
   ]
  },
  {
   "cell_type": "markdown",
   "metadata": {},
   "source": [
    "### Visualize image from dataset"
   ]
  },
  {
   "cell_type": "code",
   "execution_count": 11,
   "metadata": {},
   "outputs": [
    {
     "name": "stdout",
     "output_type": "stream",
     "text": [
      "Total Images: 270519\n"
     ]
    },
    {
     "data": {
      "image/png": "[encoded data removed]",
      "text/plain": [
       "<Figure size 432x288 with 1 Axes>"
      ]
     },
     "metadata": {
      "needs_background": "light"
     },
     "output_type": "display_data"
    }
   ],
   "source": [
    "# select random image\n",
    "idx = np.random.randint(len(dataset_train))\n",
    "image, label = dataset_train[idx]\n",
    "# format image to be visualized\n",
    "im = image.clone().to(device='cpu').detach()\n",
    "im = unnormalize_image(im).transpose((1, 2, 0))\n",
    "\n",
    "print(f\"Total Images: {len(dataset_train)}\")\n",
    "\n",
    "# display image\n",
    "plt.imshow(im)\n",
    "plt.title(f\"Example Image: {label_decoder[int(label)]}\")\n",
    "plt.show()"
   ]
  },
  {
   "cell_type": "markdown",
   "metadata": {},
   "source": [
    "## Create DataLoaders"
   ]
  },
  {
   "cell_type": "code",
   "execution_count": 12,
   "metadata": {},
   "outputs": [],
   "source": [
    "# set batch size\n",
    "batch_size=256\n",
    "\n",
    "# create data loaders\n",
    "dataloader_train = DataLoader(dataset_train, batch_size=batch_size, shuffle=True)\n",
    "dataloader_val = DataLoader(dataset_val, batch_size=batch_size, shuffle=False)\n",
    "dataloader_test = DataLoader(dataset_test, batch_size=batch_size, shuffle=False)\n",
    "\n",
    "# create dictionary of dataloaders for training\n",
    "dataloaders = {'train': dataloader_train, 'val': dataloader_val}"
   ]
  },
  {
   "cell_type": "markdown",
   "metadata": {},
   "source": [
    "## Set Modeling Parameters\n",
    "### Select model and change the final fully connected layer"
   ]
  },
  {
   "cell_type": "code",
   "execution_count": 13,
   "metadata": {},
   "outputs": [],
   "source": [
    "# get the number of classes in dataset\n",
    "out_ftrs = len(np.unique(dataset_train.labels))\n",
    "\n",
    "# load model with adjusted final layer to reflect the number of classes\n",
    "model = load_pretrained_model('efficientnet_b0', out_ftrs)\n",
    "model = model.to(device=device)"
   ]
  },
  {
   "cell_type": "code",
   "execution_count": 14,
   "metadata": {},
   "outputs": [],
   "source": [
    "lr=0.001\n",
    "optimizer = optim.Adam(model.parameters(), lr=lr)\n",
    "criterion = nn.CrossEntropyLoss()"
   ]
  },
  {
   "cell_type": "markdown",
   "metadata": {},
   "source": [
    "## Train the Model"
   ]
  },
  {
   "cell_type": "code",
   "execution_count": 13,
   "metadata": {},
   "outputs": [
    {
     "name": "stdout",
     "output_type": "stream",
     "text": [
      "Epoch 0/9\n",
      "----------------------------------------------------------------------\n",
      "Batch: 0000, loss: 6.47612 time: 0.001\n",
      "Batch: 0100, loss: 0.95149 time: 0.009\n",
      "Batch: 0200, loss: 0.33391 time: 0.017\n",
      "Batch: 0300, loss: 0.15517 time: 0.026\n",
      "Batch: 0400, loss: 0.22608 time: 0.037\n",
      "Batch: 0500, loss: 0.13018 time: 0.045\n",
      "Batch: 0600, loss: 0.10354 time: 0.056\n",
      "Batch: 0700, loss: 0.10570 time: 0.065\n",
      "Batch: 0800, loss: 0.07697 time: 0.075\n",
      "Batch: 0900, loss: 0.08836 time: 0.086\n",
      "Batch: 1000, loss: 0.06780 time: 0.095\n",
      "Epoch: 0000, Phase: train, Loss: 0.44036, Acc: 0.89420, Time: 0.100\n",
      "Epoch: 0000, Phase: val  , Loss: 0.05831, Acc: 0.98295, Time: 0.142\n",
      "\n",
      "Epoch 1/9\n",
      "----------------------------------------------------------------------\n",
      "Batch: 0000, loss: 0.12862 time: 0.142\n",
      "Batch: 0100, loss: 0.07339 time: 0.151\n",
      "Batch: 0200, loss: 0.03777 time: 0.161\n",
      "Batch: 0300, loss: 0.02461 time: 0.172\n",
      "Batch: 0400, loss: 0.07010 time: 0.180\n",
      "Batch: 0500, loss: 0.02869 time: 0.191\n",
      "Batch: 0600, loss: 0.05711 time: 0.200\n",
      "Batch: 0700, loss: 0.02680 time: 0.211\n",
      "Batch: 0800, loss: 0.06414 time: 0.220\n",
      "Batch: 0900, loss: 0.04437 time: 0.230\n",
      "Batch: 1000, loss: 0.07655 time: 0.241\n",
      "Epoch: 0001, Phase: train, Loss: 0.05772, Acc: 0.98234, Time: 0.247\n",
      "Epoch: 0001, Phase: val  , Loss: 0.03870, Acc: 0.98788, Time: 0.285\n",
      "\n",
      "Epoch 2/9\n",
      "----------------------------------------------------------------------\n",
      "Batch: 0000, loss: 0.03766 time: 0.285\n",
      "Batch: 0100, loss: 0.03489 time: 0.297\n",
      "Batch: 0200, loss: 0.05059 time: 0.308\n",
      "Batch: 0300, loss: 0.04112 time: 0.317\n",
      "Batch: 0400, loss: 0.09462 time: 0.327\n",
      "Batch: 0500, loss: 0.06960 time: 0.336\n",
      "Batch: 0600, loss: 0.06237 time: 0.347\n",
      "Batch: 0700, loss: 0.04658 time: 0.356\n",
      "Batch: 0800, loss: 0.04001 time: 0.367\n",
      "Batch: 0900, loss: 0.07393 time: 0.377\n",
      "Batch: 1000, loss: 0.01056 time: 0.386\n",
      "Epoch: 0002, Phase: train, Loss: 0.04659, Acc: 0.98556, Time: 0.393\n",
      "Epoch: 0002, Phase: val  , Loss: 0.03359, Acc: 0.99014, Time: 0.432\n",
      "\n",
      "Epoch 3/9\n",
      "----------------------------------------------------------------------\n",
      "Batch: 0000, loss: 0.07588 time: 0.432\n",
      "Batch: 0100, loss: 0.03107 time: 0.441\n",
      "Batch: 0200, loss: 0.02343 time: 0.452\n",
      "Batch: 0300, loss: 0.10890 time: 0.463\n",
      "Batch: 0400, loss: 0.03214 time: 0.472\n",
      "Batch: 0500, loss: 0.08117 time: 0.482\n",
      "Batch: 0600, loss: 0.05271 time: 0.491\n",
      "Batch: 0700, loss: 0.02416 time: 0.502\n",
      "Batch: 0800, loss: 0.03916 time: 0.512\n",
      "Batch: 0900, loss: 0.01767 time: 0.521\n",
      "Batch: 1000, loss: 0.13839 time: 0.532\n",
      "Epoch: 0003, Phase: train, Loss: 0.03796, Acc: 0.98787, Time: 0.538\n",
      "Epoch: 0003, Phase: val  , Loss: 0.02437, Acc: 0.99164, Time: 0.576\n",
      "\n",
      "Epoch 4/9\n",
      "----------------------------------------------------------------------\n",
      "Batch: 0000, loss: 0.00712 time: 0.576\n",
      "Batch: 0100, loss: 0.06478 time: 0.588\n",
      "Batch: 0200, loss: 0.01378 time: 0.599\n",
      "Batch: 0300, loss: 0.01131 time: 0.608\n",
      "Batch: 0400, loss: 0.07972 time: 0.618\n",
      "Batch: 0500, loss: 0.07529 time: 0.626\n",
      "Batch: 0600, loss: 0.06098 time: 0.637\n",
      "Batch: 0700, loss: 0.04050 time: 0.646\n",
      "Batch: 0800, loss: 0.00998 time: 0.657\n",
      "Batch: 0900, loss: 0.06274 time: 0.667\n",
      "Batch: 1000, loss: 0.03633 time: 0.676\n",
      "Epoch: 0004, Phase: train, Loss: 0.03464, Acc: 0.98882, Time: 0.684\n",
      "Epoch: 0004, Phase: val  , Loss: 0.04142, Acc: 0.98791, Time: 0.723\n",
      "\n",
      "Epoch 5/9\n",
      "----------------------------------------------------------------------\n",
      "Batch: 0000, loss: 0.01171 time: 0.723\n",
      "Batch: 0100, loss: 0.02606 time: 0.732\n",
      "Batch: 0200, loss: 0.01764 time: 0.743\n",
      "Batch: 0300, loss: 0.08528 time: 0.753\n",
      "Batch: 0400, loss: 0.00562 time: 0.762\n",
      "Batch: 0500, loss: 0.04029 time: 0.773\n",
      "Batch: 0600, loss: 0.02365 time: 0.782\n",
      "Batch: 0700, loss: 0.01075 time: 0.792\n",
      "Batch: 0800, loss: 0.02296 time: 0.803\n",
      "Batch: 0900, loss: 0.06975 time: 0.812\n",
      "Batch: 1000, loss: 0.02884 time: 0.822\n",
      "Epoch: 0005, Phase: train, Loss: 0.03214, Acc: 0.98946, Time: 0.828\n",
      "Epoch: 0005, Phase: val  , Loss: 0.02674, Acc: 0.99174, Time: 0.866\n",
      "\n",
      "Epoch 6/9\n",
      "----------------------------------------------------------------------\n",
      "Batch: 0000, loss: 0.04064 time: 0.866\n",
      "Batch: 0100, loss: 0.03576 time: 0.878\n",
      "Batch: 0200, loss: 0.10498 time: 0.888\n",
      "Batch: 0300, loss: 0.00430 time: 0.897\n",
      "Batch: 0400, loss: 0.06517 time: 0.908\n",
      "Batch: 0500, loss: 0.03971 time: 0.916\n",
      "Batch: 0600, loss: 0.06923 time: 0.927\n",
      "Batch: 0700, loss: 0.05513 time: 0.936\n",
      "Batch: 0800, loss: 0.03652 time: 0.946\n",
      "Batch: 0900, loss: 0.04460 time: 0.957\n",
      "Batch: 1000, loss: 0.01256 time: 0.966\n",
      "Epoch: 0006, Phase: train, Loss: 0.02846, Acc: 0.99062, Time: 0.973\n",
      "Epoch: 0006, Phase: val  , Loss: 0.02156, Acc: 0.99259, Time: 1.013\n",
      "\n",
      "Epoch 7/9\n",
      "----------------------------------------------------------------------\n",
      "Batch: 0000, loss: 0.04206 time: 1.013\n",
      "Batch: 0100, loss: 0.01200 time: 1.022\n",
      "Batch: 0200, loss: 0.01153 time: 1.033\n",
      "Batch: 0300, loss: 0.00139 time: 1.043\n",
      "Batch: 0400, loss: 0.00418 time: 1.052\n",
      "Batch: 0500, loss: 0.02632 time: 1.062\n",
      "Batch: 0600, loss: 0.03317 time: 1.071\n",
      "Batch: 0700, loss: 0.00632 time: 1.082\n",
      "Batch: 0800, loss: 0.03217 time: 1.093\n",
      "Batch: 0900, loss: 0.00429 time: 1.101\n",
      "Batch: 1000, loss: 0.06170 time: 1.112\n",
      "Epoch: 0007, Phase: train, Loss: 0.02695, Acc: 0.99103, Time: 1.117\n",
      "Epoch: 0007, Phase: val  , Loss: 0.02180, Acc: 0.99249, Time: 1.155\n",
      "\n",
      "Epoch 8/9\n",
      "----------------------------------------------------------------------\n",
      "Batch: 0000, loss: 0.02843 time: 1.156\n",
      "Batch: 0100, loss: 0.00242 time: 1.167\n",
      "Batch: 0200, loss: 0.06782 time: 1.178\n",
      "Batch: 0300, loss: 0.01763 time: 1.187\n",
      "Batch: 0400, loss: 0.01911 time: 1.197\n",
      "Batch: 0500, loss: 0.04433 time: 1.206\n",
      "Batch: 0600, loss: 0.00737 time: 1.217\n",
      "Batch: 0700, loss: 0.05433 time: 1.226\n",
      "Batch: 0800, loss: 0.00462 time: 1.237\n",
      "Batch: 0900, loss: 0.01145 time: 1.248\n",
      "Batch: 1000, loss: 0.03414 time: 1.257\n",
      "Epoch: 0008, Phase: train, Loss: 0.02424, Acc: 0.99172, Time: 1.264\n",
      "Epoch: 0008, Phase: val  , Loss: 0.01873, Acc: 0.99360, Time: 1.304\n",
      "\n",
      "Epoch 9/9\n",
      "----------------------------------------------------------------------\n",
      "Batch: 0000, loss: 0.00804 time: 1.304\n",
      "Batch: 0100, loss: 0.00569 time: 1.315\n",
      "Batch: 0200, loss: 0.01959 time: 1.324\n",
      "Batch: 0300, loss: 0.00330 time: 1.335\n",
      "Batch: 0400, loss: 0.00061 time: 1.343\n",
      "Batch: 0500, loss: 0.02165 time: 1.354\n",
      "Batch: 0600, loss: 0.01580 time: 1.363\n",
      "Batch: 0700, loss: 0.02189 time: 1.373\n",
      "Batch: 0800, loss: 0.00678 time: 1.384\n",
      "Batch: 0900, loss: 0.02011 time: 1.393\n",
      "Batch: 1000, loss: 0.02802 time: 1.404\n",
      "Epoch: 0009, Phase: train, Loss: 0.02476, Acc: 0.99154, Time: 1.409\n",
      "Epoch: 0009, Phase: val  , Loss: 0.02266, Acc: 0.99263, Time: 1.447\n",
      "\n",
      "Training complete in 86m 51s\n",
      "Best val Acc: 0.993595\n"
     ]
    }
   ],
   "source": [
    "num_epochs=10\n",
    "\n",
    "model, loss_record, acc_record = train_model(model, \n",
    "                                             criterion, \n",
    "                                             optimizer,\n",
    "                                             dataloaders=dataloaders,\n",
    "                                             dataset_sizes=dataset_sizes,\n",
    "                                             device=device,\n",
    "                                             num_epochs=num_epochs, \n",
    "                                             scheduler=None, \n",
    "                                             print_every=100)\n",
    "\n",
    "out_name = f\"trial-{model.__class__.__name__}-{num_epochs}-{optimizer.__class__.__name__}-{str(lr).split('.')[-1]}-0\""
   ]
  },
  {
   "cell_type": "markdown",
   "metadata": {},
   "source": [
    "## Save Training Results"
   ]
  },
  {
   "cell_type": "code",
   "execution_count": 15,
   "metadata": {},
   "outputs": [],
   "source": [
    "# make results folder\n",
    "results_path = os.path.join('training_results', out_name)\n",
    "if not os.path.isdir(results_path):\n",
    "    os.mkdir(results_path)\n",
    "\n",
    "# format loss and accuracy\n",
    "df_loss_epoch, df_loss_batch, df_acc = format_training_records(loss_record=loss_record, acc_record=acc_record)\n",
    "\n",
    "# save model weights\n",
    "torch.save(model.state_dict(), os.path.join(results_path, \"model_weights.pth\"))\n",
    "# save entire model\n",
    "torch.save(model, os.path.join(results_path, \"model_entire.pth\"))\n",
    "\n",
    "# save label encoder\n",
    "json_encoder = json.dumps(label_encoder)     \n",
    "with open(os.path.join(results_path, \"encoder.json\"), \"w\") as outfile:\n",
    "    json.dump(json_encoder, outfile)\n",
    "\n",
    "# save training results\n",
    "df_loss_epoch.to_csv(os.path.join(results_path, \"loss_epoch.csv\"), index=False)\n",
    "df_loss_batch.to_csv(os.path.join(results_path, \"loss_batch.csv\"), index=False)\n",
    "df_acc.to_csv(os.path.join(results_path, \"accuracy.csv\"), index=False)"
   ]
  },
  {
   "cell_type": "markdown",
   "metadata": {},
   "source": [
    "## Review Model\n",
    "### Review loss and accuracy curves"
   ]
  },
  {
   "cell_type": "code",
   "execution_count": 16,
   "metadata": {},
   "outputs": [
    {
     "data": {
      "image/png": "[encoded data removed]",
      "text/plain": [
       "<Figure size 720x216 with 2 Axes>"
      ]
     },
     "metadata": {
      "needs_background": "light"
     },
     "output_type": "display_data"
    }
   ],
   "source": [
    "fig, ax = plt.subplots(ncols=2, figsize=(10, 3))\n",
    "df_loss_epoch.plot(ax=ax[0])\n",
    "df_acc.plot(ax=ax[1])\n",
    "\n",
    "best_epoch = df_acc['val'].values.argmax()\n",
    "\n",
    "for i, lab in enumerate(['loss', 'accuracy']):\n",
    "    ax[i].set_ylabel(lab)\n",
    "    ax[i].set_title(lab.capitalize())\n",
    "    ax[i].set_xlabel('epoch')\n",
    "    ax[i].axvline(x=best_epoch, c='k', ls='--', alpha=0.5)\n",
    "    \n",
    "plt.show()"
   ]
  },
  {
   "cell_type": "markdown",
   "metadata": {},
   "source": [
    "## Review Multiple Model's Results"
   ]
  },
  {
   "cell_type": "code",
   "execution_count": 15,
   "metadata": {},
   "outputs": [
    {
     "data": {
      "text/plain": [
       "['./training_results/trial-EfficientNet-10-Adam-001-0',\n",
       " './training_results/trial-EfficientNet-10-Adam-001-1',\n",
       " './training_results/trial-EfficientNet-10-Adam-001-2']"
      ]
     },
     "execution_count": 15,
     "metadata": {},
     "output_type": "execute_result"
    }
   ],
   "source": [
    "results = sorted(glob('./training_results/trial-EfficientNet-10-Adam*')) # trial 0 (1)\n",
    "results"
   ]
  },
  {
   "cell_type": "markdown",
   "metadata": {},
   "source": [
    "### Review Training Records"
   ]
  },
  {
   "cell_type": "code",
   "execution_count": 16,
   "metadata": {},
   "outputs": [],
   "source": [
    "df_results=[]\n",
    "for i, fldr in enumerate(results):\n",
    "    \n",
    "    temp = pd.read_csv(os.path.join(fldr, 'accuracy.csv'))\n",
    "    temp['trial'] = i\n",
    "    \n",
    "    df_results.append(temp)\n",
    "    \n",
    "df_results = pd.concat(df_results)\n",
    "df_results.reset_index(inplace=True)\n",
    "df_results.columns = ['Epoch', 'Training', 'Validation', 'trial']"
   ]
  },
  {
   "cell_type": "code",
   "execution_count": 17,
   "metadata": {
    "scrolled": true
   },
   "outputs": [
    {
     "data": {
      "image/png": "[encoded data removed]",
      "text/plain": [
       "<Figure size 432x288 with 1 Axes>"
      ]
     },
     "metadata": {
      "needs_background": "light"
     },
     "output_type": "display_data"
    }
   ],
   "source": [
    "df_results_melt = df_results.melt(id_vars=['Epoch', 'trial'])\n",
    "df_results_melt.columns = ['Epoch', 'trial', 'Dataset', 'Accuracy']\n",
    "\n",
    "sns.lineplot(data=df_results_melt, x='Epoch', y='Accuracy', hue='Dataset', ci='sd')\n",
    "plt.show()"
   ]
  },
  {
   "cell_type": "markdown",
   "metadata": {},
   "source": [
    "### Review Accuray On Hold Out Test Data"
   ]
  },
  {
   "cell_type": "code",
   "execution_count": 18,
   "metadata": {},
   "outputs": [],
   "source": [
    "def get_top_k_accuracy(predictions, labels, k=5):\n",
    "    \n",
    "    pred_val, pred_idx = predictions.sort(dim=1, descending=True)\n",
    "    \n",
    "    top_k=[]\n",
    "    for i in range(len(labels)):\n",
    "        top_k.append(labels[i] in pred_idx[i, :k])\n",
    "        \n",
    "    top_k = torch.tensor(top_k)\n",
    "    acc = top_k.sum() / len(top_k)\n",
    "    \n",
    "    return acc.item(), top_k"
   ]
  },
  {
   "cell_type": "code",
   "execution_count": 19,
   "metadata": {},
   "outputs": [],
   "source": [
    "for i, fldr in enumerate(results):\n",
    "    model = torch.load(os.path.join(fldr, 'model_entire.pth'))\n",
    "    \n",
    "    model = model.to(device=device)\n",
    "    model.eval()\n",
    "    total_correct=0\n",
    "    pred_all=[]\n",
    "    y_all=[]\n",
    "    for b in dataloader_test:\n",
    "        X, y = b\n",
    "        X = X.to(device=device)\n",
    "        y = y.to(device=device)\n",
    "        with torch.no_grad():\n",
    "            pred = model(X)\n",
    "        pred_all.append(pred.clone())\n",
    "        y_all.append(y)\n",
    "\n",
    "    pred_all = torch.concat(pred_all)\n",
    "    y_all = torch.concat(y_all)\n",
    "    \n",
    "    accuracies=[]\n",
    "    k_values = np.arange(1, 51)\n",
    "    for k in k_values:\n",
    "        acc, topk = get_top_k_accuracy(pred_all, y_all, k=k)\n",
    "        accuracies.append(acc)\n",
    "    accuracies = np.array(accuracies)\n",
    "    \n",
    "    df_test_acc = pd.DataFrame({'Accuracy': accuracies, 'k': k_values})\n",
    "#     df_test_acc.to_csv(os.path.join(fldr, 'accuracy_k_test.csv'), index=False)"
   ]
  },
  {
   "cell_type": "code",
   "execution_count": 20,
   "metadata": {},
   "outputs": [],
   "source": [
    "df_results_test=[]\n",
    "for i, fldr in enumerate(results):\n",
    "    \n",
    "    temp = pd.read_csv(os.path.join(fldr, 'accuracy_k_test.csv'))\n",
    "    temp['trial'] = i\n",
    "    \n",
    "    df_results_test.append(temp)\n",
    "    \n",
    "df_results_test = pd.concat(df_results_test)\n",
    "df_results_test.reset_index(inplace=True, drop=True)"
   ]
  },
  {
   "cell_type": "code",
   "execution_count": 21,
   "metadata": {},
   "outputs": [
    {
     "data": {
      "text/html": [
       "<div>\n",
       "<style scoped>\n",
       "    .dataframe tbody tr th:only-of-type {\n",
       "        vertical-align: middle;\n",
       "    }\n",
       "\n",
       "    .dataframe tbody tr th {\n",
       "        vertical-align: top;\n",
       "    }\n",
       "\n",
       "    .dataframe thead th {\n",
       "        text-align: right;\n",
       "    }\n",
       "</style>\n",
       "<table border=\"1\" class=\"dataframe\">\n",
       "  <thead>\n",
       "    <tr style=\"text-align: right;\">\n",
       "      <th></th>\n",
       "      <th>trial</th>\n",
       "      <th>Dataset</th>\n",
       "      <th>Accuracy</th>\n",
       "    </tr>\n",
       "  </thead>\n",
       "  <tbody>\n",
       "    <tr>\n",
       "      <th>0</th>\n",
       "      <td>0</td>\n",
       "      <td>Training</td>\n",
       "      <td>0.992067</td>\n",
       "    </tr>\n",
       "    <tr>\n",
       "      <th>1</th>\n",
       "      <td>1</td>\n",
       "      <td>Training</td>\n",
       "      <td>0.992052</td>\n",
       "    </tr>\n",
       "    <tr>\n",
       "      <th>2</th>\n",
       "      <td>2</td>\n",
       "      <td>Training</td>\n",
       "      <td>0.992511</td>\n",
       "    </tr>\n",
       "    <tr>\n",
       "      <th>3</th>\n",
       "      <td>0</td>\n",
       "      <td>Validation</td>\n",
       "      <td>0.993410</td>\n",
       "    </tr>\n",
       "    <tr>\n",
       "      <th>4</th>\n",
       "      <td>1</td>\n",
       "      <td>Validation</td>\n",
       "      <td>0.991168</td>\n",
       "    </tr>\n",
       "    <tr>\n",
       "      <th>5</th>\n",
       "      <td>2</td>\n",
       "      <td>Validation</td>\n",
       "      <td>0.991823</td>\n",
       "    </tr>\n",
       "    <tr>\n",
       "      <th>6</th>\n",
       "      <td>0</td>\n",
       "      <td>Test</td>\n",
       "      <td>0.473282</td>\n",
       "    </tr>\n",
       "    <tr>\n",
       "      <th>7</th>\n",
       "      <td>1</td>\n",
       "      <td>Test</td>\n",
       "      <td>0.488550</td>\n",
       "    </tr>\n",
       "    <tr>\n",
       "      <th>8</th>\n",
       "      <td>2</td>\n",
       "      <td>Test</td>\n",
       "      <td>0.454198</td>\n",
       "    </tr>\n",
       "  </tbody>\n",
       "</table>\n",
       "</div>"
      ],
      "text/plain": [
       "   trial     Dataset  Accuracy\n",
       "0      0    Training  0.992067\n",
       "1      1    Training  0.992052\n",
       "2      2    Training  0.992511\n",
       "3      0  Validation  0.993410\n",
       "4      1  Validation  0.991168\n",
       "5      2  Validation  0.991823\n",
       "6      0        Test  0.473282\n",
       "7      1        Test  0.488550\n",
       "8      2        Test  0.454198"
      ]
     },
     "execution_count": 21,
     "metadata": {},
     "output_type": "execute_result"
    }
   ],
   "source": [
    "df_acc_bar = df_results[df_results['Epoch']==9].reset_index(drop=True).drop('Epoch', axis=1)\n",
    "df_acc_bar['Test'] = df_results_test[df_results_test['k']==1]['Accuracy'].values\n",
    "df_acc_bar = df_acc_bar.melt(id_vars='trial')\n",
    "df_acc_bar.columns=['trial', 'Dataset', 'Accuracy']\n",
    "df_acc_bar"
   ]
  },
  {
   "cell_type": "code",
   "execution_count": 22,
   "metadata": {
    "scrolled": false
   },
   "outputs": [
    {
     "data": {
      "text/plain": [
       "<matplotlib.axes._subplots.AxesSubplot at 0x7f3a014bce80>"
      ]
     },
     "execution_count": 22,
     "metadata": {},
     "output_type": "execute_result"
    },
    {
     "data": {
      "image/png": "[encoded data removed]",
      "text/plain": [
       "<Figure size 432x288 with 1 Axes>"
      ]
     },
     "metadata": {
      "needs_background": "light"
     },
     "output_type": "display_data"
    }
   ],
   "source": [
    "sns.barplot(data=df_acc_bar, x='Dataset', y='Accuracy')"
   ]
  },
  {
   "cell_type": "markdown",
   "metadata": {},
   "source": [
    "### Review Accuray On Hold Out Test Data (top k predictions)"
   ]
  },
  {
   "cell_type": "code",
   "execution_count": 29,
   "metadata": {},
   "outputs": [
    {
     "data": {
      "image/png": "[encoded data removed]",
      "text/plain": [
       "<Figure size 576x576 with 3 Axes>"
      ]
     },
     "metadata": {
      "needs_background": "light"
     },
     "output_type": "display_data"
    }
   ],
   "source": [
    "fig = plt.figure(figsize=(8, 8))\n",
    "gs = fig.add_gridspec(2, 2)\n",
    "ax1 = fig.add_subplot(gs[0, 0])\n",
    "ax2 = fig.add_subplot(gs[0, 1])\n",
    "ax3 = fig.add_subplot(gs[1, :])\n",
    "\n",
    "sns.lineplot(data=df_results_melt, x='Epoch', y='Accuracy', hue='Dataset', ci='sd', ax=ax1)\n",
    "sns.barplot(data=df_acc_bar, x='Dataset', y='Accuracy', ci='sd', ax=ax2)\n",
    "\n",
    "t=0\n",
    "accuracies = df_results_test[df_results_test['trial']==t]['Accuracy'].values\n",
    "k_values = df_results_test[df_results_test['trial']==t]['k'].values\n",
    "\n",
    "pnts = [1, 5, 10, 25, 50]\n",
    "ax3.plot(k_values, accuracies, c='tab:green', label='Test')\n",
    "pnts = np.array(pnts) - 1\n",
    "k_sub, acc_sub = k_values[pnts], accuracies[pnts]\n",
    "ax3.scatter(k_sub, acc_sub, marker='d', s=50, c='tab:green')\n",
    "text = [f\"(k={k_values[idx]}, {accuracies[idx]:.2f})\" for idx in pnts]\n",
    "for idx in range(len(pnts)):\n",
    "    ax3.text(k_sub[idx]+1, acc_sub[idx]-0.015, text[idx])\n",
    "    \n",
    "ax3.set_xlim(-2, 62)\n",
    "ax3.set_ylim(0.42, 0.88)\n",
    "ax3.set_xticks(pnts+1)\n",
    "ax3.set_xlabel('Top k Predictions')\n",
    "ax3.set_ylabel('Accuracy')\n",
    "ax3.legend(loc='lower right', title='Dataset')\n",
    "\n",
    "fig.tight_layout\n",
    "# plt.savefig('./Synthetic/basic_classification_results/plots/classification_accuracy.png', dpi=300, bbox_inches='tight')\n",
    "plt.show()"
   ]
  },
  {
   "cell_type": "markdown",
   "metadata": {},
   "source": [
    "### Review Saliency Maps"
   ]
  },
  {
   "cell_type": "code",
   "execution_count": 24,
   "metadata": {},
   "outputs": [],
   "source": [
    "def compute_saliency_maps(X, y, model):\n",
    "    \"\"\"\n",
    "    Compute a class saliency map using the model for images X and labels y.\n",
    "\n",
    "    Input:\n",
    "    - X: Input images; Tensor of shape (N, 3, H, W)\n",
    "    - y: Labels for X; LongTensor of shape (N,)\n",
    "    - model: A pretrained CNN that will be used to compute the saliency map.\n",
    "\n",
    "    Returns:\n",
    "    - saliency: A Tensor of shape (N, H, W) giving the saliency maps for the input\n",
    "    images.\n",
    "    \"\"\"\n",
    "    # Make sure the model is in \"test\" mode\n",
    "    model.eval()\n",
    "\n",
    "    # Make input tensor require gradient\n",
    "    X.requires_grad_()\n",
    "\n",
    "    saliency = None\n",
    "    ##############################################################################\n",
    "    # TODO: Implement this function. Perform a forward and backward pass through #\n",
    "    # the model to compute the gradient of the correct class score with respect  #\n",
    "    # to each input image. You first want to compute the loss over the correct   #\n",
    "    # scores (we'll combine losses across a batch by summing), and then compute  #\n",
    "    # the gradients with a backward pass.                    #\n",
    "    ##############################################################################\n",
    "    # Replace \"pass\" statement with your code\n",
    "\n",
    "    # forward pass\n",
    "    scores = model(X)\n",
    "\n",
    "    # encode correct scores\n",
    "    y_encode = torch.zeros_like(scores)\n",
    "    y_encode[torch.arange(y.shape[0]), y]=1\n",
    "\n",
    "    # get correct scores\n",
    "    correct_scores = y_encode * scores\n",
    "\n",
    "    # sum into loss\n",
    "    loss = correct_scores.sum()\n",
    "\n",
    "    # backward pass\n",
    "    loss.backward()\n",
    "\n",
    "    # compute saliencey  \n",
    "    saliency = X.grad # get gradient\n",
    "    saliency = saliency.abs() # take absolute value\n",
    "    saliency, indices = torch.max(saliency, dim=1) # https://pytorch.org/docs/stable/generated/torch.max.html\n",
    "\n",
    "    ##############################################################################\n",
    "    #               END OF YOUR CODE                 #\n",
    "    ##############################################################################\n",
    "    return saliency"
   ]
  },
  {
   "cell_type": "code",
   "execution_count": 26,
   "metadata": {},
   "outputs": [],
   "source": [
    "model = torch.load('./training_results/trial-EfficientNet-10-Adam-001-0/model_entire.pth')"
   ]
  },
  {
   "cell_type": "code",
   "execution_count": 27,
   "metadata": {},
   "outputs": [],
   "source": [
    "for b in dataloader_train:\n",
    "    break\n",
    "X, y = b\n",
    "\n",
    "X = X.to(device=device)\n",
    "y = y.to(device=device)\n",
    "model = model.to(device=device)\n",
    "\n",
    "saliency = compute_saliency_maps(X, y, model)"
   ]
  },
  {
   "cell_type": "code",
   "execution_count": 36,
   "metadata": {},
   "outputs": [
    {
     "data": {
      "image/png": "[encoded data removed]",
      "text/plain": [
       "<Figure size 432x288 with 2 Axes>"
      ]
     },
     "metadata": {
      "needs_background": "light"
     },
     "output_type": "display_data"
    }
   ],
   "source": [
    "sm_dir = './Synthetic/saliency-maps'\n",
    "\n",
    "cmap='afmhot'\n",
    "\n",
    "idx=np.random.randint(len(X))\n",
    "\n",
    "x_show = X[idx].clone()\n",
    "x_show = unnormalize_image(x_show.clone().detach().to(device='cpu')).transpose((1, 2, 0))\n",
    "s_show = saliency[idx].clone().detach().cpu()\n",
    "\n",
    "\n",
    "fig, ax = plt.subplots(nrows=1, ncols=2)\n",
    "ax[0].imshow(x_show)\n",
    "ax[1].imshow(s_show, cmap=cmap)\n",
    "\n",
    "fig.suptitle(f'{label_decoder[y[idx].item()].upper()}', y=0.94, fontsize=20)\n",
    "for a in ax:\n",
    "    a.axis('off')\n",
    "plt.tight_layout()\n",
    "plt.show()"
   ]
  },
  {
   "cell_type": "code",
   "execution_count": null,
   "metadata": {},
   "outputs": [],
   "source": []
  },
  {
   "cell_type": "code",
   "execution_count": null,
   "metadata": {},
   "outputs": [],
   "source": []
  }
 ],
 "metadata": {
  "kernelspec": {
   "display_name": "Python 3",
   "language": "python",
   "name": "python3"
  },
  "language_info": {
   "codemirror_mode": {
    "name": "ipython",
    "version": 3
   },
   "file_extension": ".py",
   "mimetype": "text/x-python",
   "name": "python",
   "nbconvert_exporter": "python",
   "pygments_lexer": "ipython3",
   "version": "3.8.10"
  }
 },
 "nbformat": 4,
 "nbformat_minor": 4
}
